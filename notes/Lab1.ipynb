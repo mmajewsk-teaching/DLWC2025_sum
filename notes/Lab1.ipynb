{
 "cells": [
  {
   "cell_type": "markdown",
   "id": "e12ae026",
   "metadata": {},
   "source": [
    "# Neural Network Fundamentals\n",
    "This notebook introduces fundamental concepts for building neural networks step by step"
   ]
  },
  {
   "cell_type": "markdown",
   "id": "0f655de3",
   "metadata": {},
   "source": [
    "# Part 1: Understanding the Perceptron\n",
    "We'll examine how a neuron works by building it from basic components"
   ]
  },
  {
   "cell_type": "markdown",
   "id": "c702c5e1",
   "metadata": {},
   "source": [
    "## Level 1: Basic Weighted Sum\n",
    "First, let's define our input values and weights"
   ]
  },
  {
   "cell_type": "code",
   "execution_count": null,
   "id": "81437b18",
   "metadata": {},
   "outputs": [],
   "source": [
    "# %%\n",
    "# Input values\n",
    "x1, x2, x3 = 0, 2, 0"
   ]
  },
  {
   "cell_type": "code",
   "execution_count": null,
   "id": "5d6273e6",
   "metadata": {},
   "outputs": [],
   "source": [
    "# %%\n",
    "# Weights\n",
    "w1, w2, w3 = -1, 1, 3"
   ]
  },
  {
   "cell_type": "code",
   "execution_count": null,
   "id": "81d3e46f",
   "metadata": {},
   "outputs": [],
   "source": [
    "# %%\n",
    "# Bias/threshold value\n",
    "b = 3"
   ]
  },
  {
   "cell_type": "code",
   "execution_count": null,
   "id": "8ffa9289",
   "metadata": {},
   "outputs": [],
   "source": [
    "# %%\n",
    "# Calculate the weighted sum of inputs\n",
    "output = x1*w1 + x2*w2 + x3*w3\n",
    "output"
   ]
  },
  {
   "cell_type": "code",
   "execution_count": null,
   "id": "9a940084",
   "metadata": {},
   "outputs": [],
   "source": [
    "# %%\n",
    "# Apply threshold function (activation)\n",
    "if output >= b:\n",
    "    result = 1\n",
    "else:\n",
    "    result = 0 "
   ]
  },
  {
   "cell_type": "code",
   "execution_count": null,
   "id": "6969006f",
   "metadata": {},
   "outputs": [],
   "source": [
    "# %%\n",
    "result"
   ]
  },
  {
   "cell_type": "markdown",
   "id": "9c8c54b7",
   "metadata": {},
   "source": [
    "## Level 2: Treating Bias as a Weight\n",
    "We can incorporate the bias into our weights by using a constant input"
   ]
  },
  {
   "cell_type": "code",
   "execution_count": null,
   "id": "347a9898",
   "metadata": {},
   "outputs": [],
   "source": [
    "# %%\n",
    "# Same inputs and weights as before\n",
    "x1, x2, x3 = 0, 2, 0\n",
    "w1, w2, w3 = -1, 1, 3\n",
    "b = 3"
   ]
  },
  {
   "cell_type": "code",
   "execution_count": null,
   "id": "3d73f755",
   "metadata": {},
   "outputs": [],
   "source": [
    "# %%\n",
    "# Check if the weighted sum minus bias is positive\n",
    "x1*w1 + x2*w2 + x3*w3 - 1*b >= 0"
   ]
  },
  {
   "cell_type": "code",
   "execution_count": null,
   "id": "b4f1c9d0",
   "metadata": {},
   "outputs": [],
   "source": [
    "# %%\n",
    "# Turn bias into a weight\n",
    "w4 = b"
   ]
  },
  {
   "cell_type": "code",
   "execution_count": null,
   "id": "01b961eb",
   "metadata": {},
   "outputs": [],
   "source": [
    "# %%\n",
    "# Calculate result with bias as a weight\n",
    "if x1*w1 + x2*w2 + x3*w3 - 1*w4 >= 0:\n",
    "    result = 1\n",
    "else:\n",
    "    result = 0"
   ]
  },
  {
   "cell_type": "markdown",
   "id": "3c48e555",
   "metadata": {},
   "source": [
    "## Level 3: Using Lists for Inputs and Weights\n",
    "Let's use lists to handle multiple inputs/weights more elegantly"
   ]
  },
  {
   "cell_type": "code",
   "execution_count": null,
   "id": "4ab50393",
   "metadata": {},
   "outputs": [],
   "source": [
    "# %%\n",
    "# Combine inputs and weights into lists\n",
    "x = [x1, x2, x3, 1]  # Note: Added constant input 1\n",
    "w = [w1, w2, w3, w4]"
   ]
  },
  {
   "cell_type": "code",
   "execution_count": null,
   "id": "4115618d",
   "metadata": {},
   "outputs": [],
   "source": [
    "# %%\n",
    "# Sum products with basic loop\n",
    "s = 0\n",
    "for i in range(len(x)):\n",
    "    s += x[i]*w[i]  # Fixed index bug from original"
   ]
  },
  {
   "cell_type": "code",
   "execution_count": null,
   "id": "9565d85c",
   "metadata": {},
   "outputs": [],
   "source": [
    "# %%\n",
    "(s >= 0)*1  # Multiply by 1 to convert boolean to int"
   ]
  },
  {
   "cell_type": "markdown",
   "id": "d6f71061",
   "metadata": {},
   "source": [
    "## Level 4: Using Zip for Cleaner Code\n",
    "Python's zip function makes this process more elegant"
   ]
  },
  {
   "cell_type": "code",
   "execution_count": null,
   "id": "14d92453",
   "metadata": {},
   "outputs": [],
   "source": [
    "# %%\n",
    "# Reset sum and use zip to pair inputs with weights\n",
    "s = 0\n",
    "for x_n, w_n in zip(x, w):\n",
    "    s += x_n*w_n"
   ]
  },
  {
   "cell_type": "code",
   "execution_count": null,
   "id": "988de684",
   "metadata": {},
   "outputs": [],
   "source": [
    "# %%\n",
    "(s >= 0)*1"
   ]
  },
  {
   "cell_type": "markdown",
   "id": "7cd08978",
   "metadata": {},
   "source": [
    "## Level 5: Using List Comprehension\n",
    "List comprehension provides an even more concise approach"
   ]
  },
  {
   "cell_type": "code",
   "execution_count": null,
   "id": "da69292c",
   "metadata": {},
   "outputs": [],
   "source": [
    "# %%\n",
    "# Calculate each product with list comprehension\n",
    "tmp_s = [x_n*w_n for x_n, w_n in zip(x, w)]"
   ]
  },
  {
   "cell_type": "code",
   "execution_count": null,
   "id": "7d58b226",
   "metadata": {},
   "outputs": [],
   "source": [
    "tmp_s"
   ]
  },
  {
   "cell_type": "code",
   "execution_count": null,
   "id": "52560380",
   "metadata": {},
   "outputs": [],
   "source": [
    "# %%\n",
    "# Sum the products\n",
    "s = sum(tmp_s)"
   ]
  },
  {
   "cell_type": "code",
   "execution_count": null,
   "id": "9b87c43a",
   "metadata": {},
   "outputs": [],
   "source": [
    "# %%\n",
    "(s >= 0)*1"
   ]
  },
  {
   "cell_type": "markdown",
   "id": "083689f8",
   "metadata": {},
   "source": [
    "## Level 6: Using NumPy for Vector Operations\n",
    "NumPy provides efficient vector operations"
   ]
  },
  {
   "cell_type": "code",
   "execution_count": null,
   "id": "3fa6b56d",
   "metadata": {},
   "outputs": [],
   "source": [
    "# %%\n",
    "import numpy as np"
   ]
  },
  {
   "cell_type": "code",
   "execution_count": null,
   "id": "5fd553bc",
   "metadata": {},
   "outputs": [],
   "source": [
    "# %%\n",
    "# Use NumPy's dot product function\n",
    "(np.dot(x, w) >= 0)*1"
   ]
  },
  {
   "cell_type": "code",
   "execution_count": null,
   "id": "25a0d857",
   "metadata": {},
   "outputs": [],
   "source": [
    "# %%\n",
    "# Convert to NumPy arrays\n",
    "xa = np.array(x)\n",
    "wa = np.array(w)"
   ]
  },
  {
   "cell_type": "code",
   "execution_count": null,
   "id": "4fc311ee",
   "metadata": {
    "lines_to_next_cell": 1
   },
   "outputs": [],
   "source": [
    "# %%\n",
    "# Use matrix multiplication operator\n",
    "xa@wa"
   ]
  },
  {
   "cell_type": "markdown",
   "id": "0fd2689e",
   "metadata": {},
   "source": [
    "## Level 7: Creating a Neuron Function\n",
    "Let's wrap our neuron logic in a reusable function"
   ]
  },
  {
   "cell_type": "code",
   "execution_count": null,
   "id": "de613166",
   "metadata": {
    "lines_to_next_cell": 1
   },
   "outputs": [],
   "source": [
    "# %%\n",
    "def neuron(x, w):\n",
    "    \"\"\"\n",
    "    Implements a simple neuron with step activation function\n",
    "    x: input values (with bias term)\n",
    "    w: weights (including bias weight)\n",
    "    \"\"\"\n",
    "    return ((x@w) >= 0)*1"
   ]
  },
  {
   "cell_type": "markdown",
   "id": "26ce510c",
   "metadata": {},
   "source": [
    "# Part 2: Logical Operations with Neurons\n",
    "We'll implement logical operations using our neuron model"
   ]
  },
  {
   "cell_type": "markdown",
   "id": "bfac2fca",
   "metadata": {},
   "source": [
    "## Level 1: Basic Neuron Test\n",
    "Testing the neuron with basic inputs"
   ]
  },
  {
   "cell_type": "code",
   "execution_count": null,
   "id": "73ee00a8",
   "metadata": {},
   "outputs": [],
   "source": [
    "# %%\n",
    "# Create simple test inputs\n",
    "x = np.array([0, 0, 1])  # Added bias term\n",
    "w = np.array([0, 0, 0])"
   ]
  },
  {
   "cell_type": "code",
   "execution_count": null,
   "id": "b69790e8",
   "metadata": {},
   "outputs": [],
   "source": [
    "# %%\n",
    "neuron(x, w)"
   ]
  },
  {
   "cell_type": "markdown",
   "id": "14435af8",
   "metadata": {},
   "source": [
    "## Level 2: OR Gate Implementation\n",
    "Implementing the OR logical operation"
   ]
  },
  {
   "cell_type": "code",
   "execution_count": null,
   "id": "c1f66c16",
   "metadata": {},
   "outputs": [],
   "source": [
    "# %%\n",
    "# Truth table for OR operation\n",
    "X = np.array([\n",
    "    [0, 0, 1],  # [in1, in2, bias]\n",
    "    [1, 0, 1],\n",
    "    [0, 1, 1],\n",
    "    [1, 1, 1]\n",
    "])"
   ]
  },
  {
   "cell_type": "code",
   "execution_count": null,
   "id": "d573da72",
   "metadata": {},
   "outputs": [],
   "source": [
    "Y = np.array([\n",
    "    [0],  # Expected outputs\n",
    "    [1],\n",
    "    [1],\n",
    "    [1]\n",
    "])"
   ]
  },
  {
   "cell_type": "code",
   "execution_count": null,
   "id": "f78e3119",
   "metadata": {},
   "outputs": [],
   "source": [
    "# %%\n",
    "# Weights for OR operation\n",
    "w = np.array([1, 1, -0.5])"
   ]
  },
  {
   "cell_type": "code",
   "execution_count": null,
   "id": "292283e8",
   "metadata": {},
   "outputs": [],
   "source": [
    "# %%\n",
    "# Test OR implementation\n",
    "for i in range(4):\n",
    "    print(f\"Input: {X[i][0:2]}, Output: {neuron(X[i], w)}, Expected: {Y[i][0]}\")"
   ]
  },
  {
   "cell_type": "markdown",
   "id": "a20e8b2f",
   "metadata": {},
   "source": [
    "## Level 3: AND Gate Implementation\n",
    "Implementing the AND logical operation"
   ]
  },
  {
   "cell_type": "code",
   "execution_count": null,
   "id": "ad9194d3",
   "metadata": {},
   "outputs": [],
   "source": [
    "# %%\n",
    "# Using same truth table setup, just changing the weights\n",
    "X = np.array([\n",
    "    [0, 0, 1],\n",
    "    [1, 0, 1],\n",
    "    [0, 1, 1],\n",
    "    [1, 1, 1]\n",
    "])"
   ]
  },
  {
   "cell_type": "code",
   "execution_count": null,
   "id": "e680c79b",
   "metadata": {},
   "outputs": [],
   "source": [
    "Y = np.array([\n",
    "    [0],\n",
    "    [0],\n",
    "    [0],\n",
    "    [1]\n",
    "])"
   ]
  },
  {
   "cell_type": "code",
   "execution_count": null,
   "id": "f03bd350",
   "metadata": {},
   "outputs": [],
   "source": [
    "# %%\n",
    "# Weights for AND operation\n",
    "w = np.array([1, 1, -1.5])"
   ]
  },
  {
   "cell_type": "code",
   "execution_count": null,
   "id": "cf280457",
   "metadata": {},
   "outputs": [],
   "source": [
    "# %%\n",
    "# Test AND implementation\n",
    "for i in range(4):\n",
    "    print(f\"Input: {X[i][0:2]}, Output: {neuron(X[i], w)}, Expected: {Y[i][0]}\")"
   ]
  },
  {
   "cell_type": "markdown",
   "id": "9c07e066",
   "metadata": {},
   "source": [
    "## Level 4: XOR Problem\n",
    "Demonstrating the XOR problem (not linearly separable)"
   ]
  },
  {
   "cell_type": "code",
   "execution_count": null,
   "id": "dfc15bdb",
   "metadata": {},
   "outputs": [],
   "source": [
    "# %%\n",
    "# Truth table for XOR\n",
    "X = np.array([\n",
    "    [0, 0, 1],\n",
    "    [1, 0, 1],\n",
    "    [0, 1, 1],\n",
    "    [1, 1, 1]\n",
    "])"
   ]
  },
  {
   "cell_type": "code",
   "execution_count": null,
   "id": "a3a4a2a2",
   "metadata": {},
   "outputs": [],
   "source": [
    "Y = np.array([\n",
    "    [0],\n",
    "    [1],\n",
    "    [1],\n",
    "    [0]\n",
    "])"
   ]
  },
  {
   "cell_type": "code",
   "execution_count": null,
   "id": "d9f581ef",
   "metadata": {},
   "outputs": [],
   "source": [
    "# %%\n",
    "# Attempt with simple weights (will not work completely)\n",
    "w = np.array([-0.5, 1, -1])"
   ]
  },
  {
   "cell_type": "code",
   "execution_count": null,
   "id": "6625242e",
   "metadata": {},
   "outputs": [],
   "source": [
    "# %%\n",
    "# Test XOR implementation (will show the failure of a single neuron)\n",
    "for i in range(4):\n",
    "    print(f\"Input: {X[i][0:2]}, Output: {neuron(X[i], w)}, Expected: {Y[i][0]}\")"
   ]
  },
  {
   "cell_type": "markdown",
   "id": "997e88ae",
   "metadata": {},
   "source": [
    "# Part 3: Linear Regression with a Neuron\n",
    "Using a neuron without the step function for linear regression"
   ]
  },
  {
   "cell_type": "markdown",
   "id": "d2c7396f",
   "metadata": {},
   "source": [
    "## Level 1: Creating a Linear Neuron\n",
    "The key difference from our previous neuron is removing the threshold activation"
   ]
  },
  {
   "cell_type": "code",
   "execution_count": null,
   "id": "9900c1da",
   "metadata": {
    "lines_to_next_cell": 1
   },
   "outputs": [],
   "source": [
    "# %%\n",
    "import matplotlib.pyplot as plt"
   ]
  },
  {
   "cell_type": "code",
   "execution_count": null,
   "id": "6186e775",
   "metadata": {
    "lines_to_next_cell": 1
   },
   "outputs": [],
   "source": [
    "# %%\n",
    "# Define a linear neuron (without activation)\n",
    "def neuron2(x, w):\n",
    "    \"\"\"Linear neuron - just returns the weighted sum\"\"\"\n",
    "    return x@w"
   ]
  },
  {
   "cell_type": "markdown",
   "id": "72f4f4ab",
   "metadata": {},
   "source": [
    "## Level 2: Generating Linear Data\n",
    "Creating a simple dataset to visualize linear models"
   ]
  },
  {
   "cell_type": "code",
   "execution_count": null,
   "id": "35331e5b",
   "metadata": {},
   "outputs": [],
   "source": [
    "# %%\n",
    "# Generate x values for our data\n",
    "x_1 = np.linspace(0, 10, 25)  # 25 points between 0 and 10"
   ]
  },
  {
   "cell_type": "code",
   "execution_count": null,
   "id": "8235a98f",
   "metadata": {},
   "outputs": [],
   "source": [
    "# %%\n",
    "# Add bias term (constant 1)\n",
    "x_2 = np.zeros_like(x_1) + 1  # Bias term"
   ]
  },
  {
   "cell_type": "code",
   "execution_count": null,
   "id": "57d0ca7d",
   "metadata": {},
   "outputs": [],
   "source": [
    "# %%\n",
    "# Stack into input matrix with shape (25, 2)\n",
    "X = np.vstack((x_1, x_2)).T"
   ]
  },
  {
   "cell_type": "code",
   "execution_count": null,
   "id": "1021f5ff",
   "metadata": {},
   "outputs": [],
   "source": [
    "# %%\n",
    "# Examine first few rows of our data\n",
    "X[:5]"
   ]
  },
  {
   "cell_type": "markdown",
   "id": "063c3069",
   "metadata": {},
   "source": [
    "## Level 3: Creating Linear Models\n",
    "Different weights create different linear functions"
   ]
  },
  {
   "cell_type": "code",
   "execution_count": null,
   "id": "06a17a18",
   "metadata": {},
   "outputs": [],
   "source": [
    "# %%\n",
    "# First set of weights: steeper slope\n",
    "w1 = np.array([0.5, 1])  # slope 0.5, intercept 1\n",
    "Y1 = neuron2(X, w1)"
   ]
  },
  {
   "cell_type": "code",
   "execution_count": null,
   "id": "2919fe67",
   "metadata": {},
   "outputs": [],
   "source": [
    "# %%\n",
    "# Second set of weights: gentler slope\n",
    "w2 = np.array([0.3, 1])  # slope 0.3, intercept 1\n",
    "Y2 = neuron2(X, w2)"
   ]
  },
  {
   "cell_type": "code",
   "execution_count": null,
   "id": "67a744ef",
   "metadata": {},
   "outputs": [],
   "source": [
    "# %%\n",
    "# Plot both lines to compare\n",
    "plt.figure(figsize=(10, 6))\n",
    "plt.plot(X[:, 0], Y1, label=\"Line 1: slope=0.5, intercept=1\")\n",
    "plt.plot(X[:, 0], Y2, label=\"Line 2: slope=0.3, intercept=1\")\n",
    "plt.legend()\n",
    "plt.xlabel(\"x\")\n",
    "plt.ylabel(\"y\")\n",
    "plt.title(\"Linear Functions with Different Slopes\")\n",
    "plt.grid(True)"
   ]
  }
 ],
 "metadata": {
  "jupytext": {
   "formats": "ipynb,py:light",
   "main_language": "python"
  }
 },
 "nbformat": 4,
 "nbformat_minor": 5
}
